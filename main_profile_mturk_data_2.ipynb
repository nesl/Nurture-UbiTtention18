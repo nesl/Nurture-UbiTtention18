{
 "cells": [
  {
   "cell_type": "code",
   "execution_count": 5,
   "metadata": {},
   "outputs": [],
   "source": [
    "import numpy as np\n",
    "import glob\n",
    "import csv\n",
    "\n",
    "from emulator.utils import mturk_utils"
   ]
  },
  {
   "cell_type": "code",
   "execution_count": 6,
   "metadata": {},
   "outputs": [],
   "source": [
    "flaggedWorkers = set(mturk_utils.getFlaggedWorkers())"
   ]
  },
  {
   "cell_type": "code",
   "execution_count": 19,
   "metadata": {},
   "outputs": [],
   "source": [
    "def digestFiles(fileNames):\n",
    "    workers = set([])\n",
    "    completionTime = []\n",
    "    for name in fileNames:\n",
    "        with open(name) as f:\n",
    "            for row in csv.DictReader(f):\n",
    "                workerID = row['WorkerId']\n",
    "                if workerID == '' or workerID in flaggedWorkers:\n",
    "                    continue\n",
    "                workers.add(workerID)\n",
    "                completionTime.append(int(row['WorkTimeInSeconds']))\n",
    "    print(\"There are %d unique workers\" % len(workers))\n",
    "    print(\"There are %d surveys\" % len(completionTime))\n",
    "    print(\"Median of completion time: %f seconds\" % np.percentile(completionTime, 50))\n",
    "    print(\"90-percentile of completion time: %f seconds\" % np.percentile(completionTime, 90))"
   ]
  },
  {
   "cell_type": "code",
   "execution_count": 22,
   "metadata": {},
   "outputs": [
    {
     "name": "stdout",
     "output_type": "stream",
     "text": [
      "There are 123 unique workers\n",
      "There are 2948 surveys\n",
      "Median of completion time: 7.000000 seconds\n",
      "90-percentile of completion time: 44.000000 seconds\n"
     ]
    }
   ],
   "source": [
    "files = glob.glob('survey/ver2_mturk/results/*.csv')\n",
    "digestFiles(files)"
   ]
  },
  {
   "cell_type": "code",
   "execution_count": 20,
   "metadata": {},
   "outputs": [
    {
     "name": "stdout",
     "output_type": "stream",
     "text": [
      "There are 223 unique workers\n",
      "There are 2964 surveys\n",
      "Median of completion time: 7.000000 seconds\n",
      "90-percentile of completion time: 29.000000 seconds\n"
     ]
    }
   ],
   "source": [
    "files = glob.glob('emulator/mturk_emulator_files/qlearning_2txt/*.response.*.csv')\n",
    "digestFiles(files)"
   ]
  },
  {
   "cell_type": "code",
   "execution_count": 21,
   "metadata": {},
   "outputs": [
    {
     "name": "stdout",
     "output_type": "stream",
     "text": [
      "There are 67 unique workers\n",
      "There are 1938 surveys\n",
      "Median of completion time: 12.000000 seconds\n",
      "90-percentile of completion time: 123.000000 seconds\n"
     ]
    }
   ],
   "source": [
    "files = glob.glob('emulator/mturk_emulator_files/qlearning_7txt/*.response.*.csv')\n",
    "digestFiles(files)"
   ]
  },
  {
   "cell_type": "code",
   "execution_count": 24,
   "metadata": {},
   "outputs": [
    {
     "name": "stdout",
     "output_type": "stream",
     "text": [
      "There are 290 unique workers\n",
      "There are 4902 surveys\n",
      "Median of completion time: 8.000000 seconds\n",
      "90-percentile of completion time: 60.000000 seconds\n"
     ]
    }
   ],
   "source": [
    "files = glob.glob('emulator/mturk_emulator_files/qlearning_2txt/*.response.*.csv') + glob.glob('emulator/mturk_emulator_files/qlearning_7txt/*.response.*.csv')\n",
    "digestFiles(files)"
   ]
  },
  {
   "cell_type": "code",
   "execution_count": null,
   "metadata": {},
   "outputs": [],
   "source": []
  }
 ],
 "metadata": {
  "kernelspec": {
   "display_name": "Python 3",
   "language": "python",
   "name": "python3"
  },
  "language_info": {
   "codemirror_mode": {
    "name": "ipython",
    "version": 3
   },
   "file_extension": ".py",
   "mimetype": "text/x-python",
   "name": "python",
   "nbconvert_exporter": "python",
   "pygments_lexer": "ipython3",
   "version": "3.6.4"
  }
 },
 "nbformat": 4,
 "nbformat_minor": 2
}
