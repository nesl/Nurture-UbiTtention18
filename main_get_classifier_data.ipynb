{
 "cells": [
  {
   "cell_type": "code",
   "execution_count": 1,
   "metadata": {},
   "outputs": [
    {
     "name": "stderr",
     "output_type": "stream",
     "text": [
      "/home/timestring/anaconda3/lib/python3.6/site-packages/h5py/__init__.py:36: FutureWarning: Conversion of the second argument of issubdtype from `float` to `np.floating` is deprecated. In future, it will be treated as `np.float64 == np.dtype(float).type`.\n",
      "  from ._conv import register_converters as _register_converters\n",
      "Using TensorFlow backend.\n"
     ]
    }
   ],
   "source": [
    "from agent import *\n",
    "from environment import *\n",
    "from controller import Controller"
   ]
  },
  {
   "cell_type": "code",
   "execution_count": 2,
   "metadata": {},
   "outputs": [
    {
     "name": "stderr",
     "output_type": "stream",
     "text": [
      "No record for day=0, location=0, activity=2, notification=0\n",
      "No record for day=0, location=0, activity=2, notification=1\n",
      "No record for day=0, location=0, activity=3, notification=0\n",
      "No record for day=0, location=0, activity=3, notification=1\n",
      "No record for day=0, location=0, activity=4, notification=0\n",
      "No record for day=0, location=0, activity=4, notification=1\n",
      "No record for day=0, location=1, activity=2, notification=0\n",
      "No record for day=0, location=1, activity=2, notification=1\n",
      "No record for day=0, location=1, activity=3, notification=0\n",
      "No record for day=0, location=1, activity=3, notification=1\n",
      "No record for day=0, location=1, activity=4, notification=0\n",
      "No record for day=0, location=1, activity=4, notification=1\n",
      "No record for day=1, location=0, activity=0, notification=1\n",
      "No record for day=1, location=0, activity=2, notification=0\n",
      "No record for day=1, location=0, activity=2, notification=1\n",
      "No record for day=1, location=0, activity=3, notification=0\n",
      "No record for day=1, location=0, activity=3, notification=1\n",
      "No record for day=1, location=0, activity=4, notification=0\n",
      "No record for day=1, location=0, activity=4, notification=1\n",
      "No record for day=1, location=1, activity=2, notification=0\n",
      "No record for day=1, location=1, activity=2, notification=1\n",
      "No record for day=1, location=1, activity=3, notification=0\n",
      "No record for day=1, location=1, activity=3, notification=1\n",
      "No record for day=1, location=1, activity=4, notification=0\n",
      "No record for day=1, location=1, activity=4, notification=1\n",
      "WARNING: No records for 25 states. The behavior will be random.\n"
     ]
    }
   ],
   "source": [
    "agent = ClassifierDataCollectionAgent()\n",
    "environment = MTurkSurveyUser(filePaths=[\n",
    "        'survey/ver2_mturk/results/01_1st_Batch_3137574_batch_results.csv',\n",
    "        'survey/ver2_mturk/results/02_Batch_3148398_batch_results.csv',\n",
    "        'survey/ver2_mturk/results/03_Batch_3149214_batch_results.csv',\n",
    "], filterFunc=(lambda r: ord(r['rawWorkerID'][-1]) % 3 == 1))\n",
    "\n",
    "simulationWeek = 10\n",
    "\n",
    "controller = Controller(agent, environment, simulationWeek=simulationWeek, verbose=False)\n",
    "controller.execute()\n",
    "\n",
    "agent.saveModel(\"agent/pretrained_models/classifiers/mturk_3000_m3_r1.txt\")"
   ]
  },
  {
   "cell_type": "code",
   "execution_count": null,
   "metadata": {
    "collapsed": true
   },
   "outputs": [],
   "source": []
  }
 ],
 "metadata": {
  "kernelspec": {
   "display_name": "Python 3",
   "language": "python",
   "name": "python3"
  },
  "language_info": {
   "codemirror_mode": {
    "name": "ipython",
    "version": 3
   },
   "file_extension": ".py",
   "mimetype": "text/x-python",
   "name": "python",
   "nbconvert_exporter": "python",
   "pygments_lexer": "ipython3",
   "version": "3.6.4"
  }
 },
 "nbformat": 4,
 "nbformat_minor": 2
}
