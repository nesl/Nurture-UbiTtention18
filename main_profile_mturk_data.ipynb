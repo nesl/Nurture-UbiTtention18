{
 "cells": [
  {
   "cell_type": "code",
   "execution_count": 1,
   "metadata": {},
   "outputs": [],
   "source": [
    "import matplotlib.pyplot as plt\n",
    "import numpy as np\n",
    "\n",
    "from environment import MTurkSurveyUser"
   ]
  },
  {
   "cell_type": "code",
   "execution_count": 2,
   "metadata": {},
   "outputs": [
    {
     "name": "stderr",
     "output_type": "stream",
     "text": [
      "No record for day=0, location=0, activity=2, notification=0\n",
      "No record for day=0, location=0, activity=2, notification=1\n",
      "No record for day=0, location=0, activity=3, notification=0\n",
      "No record for day=0, location=0, activity=3, notification=1\n",
      "No record for day=0, location=0, activity=4, notification=0\n",
      "No record for day=0, location=0, activity=4, notification=1\n",
      "No record for day=0, location=1, activity=2, notification=0\n",
      "No record for day=0, location=1, activity=2, notification=1\n",
      "No record for day=0, location=1, activity=3, notification=0\n",
      "No record for day=0, location=1, activity=3, notification=1\n",
      "No record for day=0, location=1, activity=4, notification=0\n",
      "No record for day=0, location=1, activity=4, notification=1\n",
      "No record for day=1, location=0, activity=2, notification=0\n",
      "No record for day=1, location=0, activity=2, notification=1\n",
      "No record for day=1, location=0, activity=3, notification=0\n",
      "No record for day=1, location=0, activity=3, notification=1\n",
      "No record for day=1, location=0, activity=4, notification=0\n",
      "No record for day=1, location=0, activity=4, notification=1\n",
      "No record for day=1, location=1, activity=2, notification=0\n",
      "No record for day=1, location=1, activity=2, notification=1\n",
      "No record for day=1, location=1, activity=3, notification=0\n",
      "No record for day=1, location=1, activity=3, notification=1\n",
      "No record for day=1, location=1, activity=4, notification=0\n",
      "No record for day=1, location=1, activity=4, notification=1\n",
      "WARNING: No records for 24 states. The behavior will be random.\n"
     ]
    }
   ],
   "source": [
    "environment = MTurkSurveyUser([\n",
    "        'survey/ver2_mturk/results/01_1st_Batch_3137574_batch_results.csv',\n",
    "        'survey/ver2_mturk/results/02_Batch_3148398_batch_results.csv',\n",
    "        'survey/ver2_mturk/results/03_Batch_3149214_batch_results.csv',\n",
    "])"
   ]
  },
  {
   "cell_type": "code",
   "execution_count": 3,
   "metadata": {},
   "outputs": [
    {
     "name": "stdout",
     "output_type": "stream",
     "text": [
      "There are 3019 records in total.\n",
      "24 states have no samples.\n",
      "Ratio of accepted notifications is 41.80%\n",
      "Ratio of ignored notifications is 31.53%\n",
      "Ratio of dismissed notifications is 26.66%\n",
      "Number of unique workers: 127\n",
      "Working time per task: 18.9 +- 55.64 secs\n"
     ]
    }
   ],
   "source": [
    "# environment profile\n",
    "numTotalRecords = environment.getNumTotalRecords()\n",
    "print(\"There are %d records in total.\" % numTotalRecords)\n",
    "print(\"%d states have no samples.\" % environment.getNumNoDataStates())\n",
    "numAccept = environment.getNumRecordsAcceptingNotification()\n",
    "numIgnore = environment.getNumRecordsIgnoringNotification()\n",
    "numDismiss = environment.getNumRecordsDismissingNotification()\n",
    "ratioAccept = numAccept / numTotalRecords\n",
    "ratioIgnore = numIgnore / numTotalRecords\n",
    "ratioDismiss = numDismiss / numTotalRecords\n",
    "print(\"Ratio of accepted notifications is %.2f%%\" % (ratioAccept * 100.))\n",
    "print(\"Ratio of ignored notifications is %.2f%%\" % (ratioIgnore * 100.))\n",
    "print(\"Ratio of dismissed notifications is %.2f%%\" % (ratioDismiss * 100.))\n",
    "print(\"Number of unique workers: %d\" % environment.getNumUniqueWorkers())\n",
    "workingTimeAvg, workingTimeStd = environment.getAvgWorkingTime()\n",
    "print(\"Working time per task: %.1f +- %.2f secs\" % (workingTimeAvg, workingTimeStd))"
   ]
  },
  {
   "cell_type": "code",
   "execution_count": 4,
   "metadata": {},
   "outputs": [
    {
     "name": "stdout",
     "output_type": "stream",
     "text": [
      "Flag worker (type A) \"A1P1O15RET85CN\": accept=0, ignore=0, dismiss=37\n",
      "Flag worker (type B) \"A1P1O15RET85CN\": accept=0, ignore=0, dismiss=37\n",
      "Flag worker (type B) \"A3683MQHQTG64Z\": accept=56, ignore=13, dismiss=0\n"
     ]
    }
   ],
   "source": [
    "# is there a bad worker?\n",
    "workerAggregatedResponses = environment.getResponsesGroupByWorkers()\n",
    "for worker in workerAggregatedResponses:\n",
    "    numTotal, numAccepts, numIgnores, numDismisses = workerAggregatedResponses[worker]\n",
    "    if numTotal >= 10:\n",
    "        if numTotal in [numAccepts, numIgnores, numDismisses]:\n",
    "            print(\"Flag worker (type A) \\\"%s\\\": accept=%d, ignore=%d, dismiss=%d\"\n",
    "                  % (worker, numAccepts, numIgnores, numDismisses))\n",
    "for worker in workerAggregatedResponses:\n",
    "    numTotal, numAccepts, numIgnores, numDismisses = workerAggregatedResponses[worker]\n",
    "    if numTotal >= 20:\n",
    "        if any([n / numTotal > 0.8 for n in [numAccepts, numIgnores, numDismisses]]):\n",
    "            print(\"Flag worker (type B) \\\"%s\\\": accept=%d, ignore=%d, dismiss=%d\"\n",
    "                  % (worker, numAccepts, numIgnores, numDismisses))"
   ]
  },
  {
   "cell_type": "code",
   "execution_count": 19,
   "metadata": {},
   "outputs": [
    {
     "data": {
      "image/png": "[encoded data removed]",
      "text/plain": [
       "<matplotlib.figure.Figure at 0x7f7000bb7518>"
      ]
     },
     "metadata": {},
     "output_type": "display_data"
    }
   ],
   "source": [
    "# show completed tasks per worker\n",
    "workerResponses = environment.getResponsesGroupByWorkers()\n",
    "workerTotalResponseCounts = [workerResponses[worker][0] for worker in workerResponses]\n",
    "workerTotalResponseCounts.sort()\n",
    "workerTotalResponseCounts.reverse()\n",
    "\n",
    "fig, ax = plt.subplots(figsize=(14, 6))\n",
    "ind = np.arange(len(workerTotalResponseCounts))\n",
    "width = 0.8\n",
    "\n",
    "rects = ax.bar(ind, workerTotalResponseCounts, width, color='SkyBlue', label='Counts')\n",
    "plt.show()\n",
    "fig.savefig(\"export_figures/mturk_responses_by_worker.pdf\", bbox_inches='tight')"
   ]
  },
  {
   "cell_type": "code",
   "execution_count": null,
   "metadata": {
    "collapsed": true
   },
   "outputs": [],
   "source": []
  }
 ],
 "metadata": {
  "kernelspec": {
   "display_name": "Python 3",
   "language": "python",
   "name": "python3"
  },
  "language_info": {
   "codemirror_mode": {
    "name": "ipython",
    "version": 3
   },
   "file_extension": ".py",
   "mimetype": "text/x-python",
   "name": "python",
   "nbconvert_exporter": "python",
   "pygments_lexer": "ipython3",
   "version": "3.6.4"
  }
 },
 "nbformat": 4,
 "nbformat_minor": 2
}
