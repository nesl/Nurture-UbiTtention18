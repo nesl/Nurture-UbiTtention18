{
 "cells": [
  {
   "cell_type": "code",
   "execution_count": 1,
   "metadata": {},
   "outputs": [],
   "source": [
    "from behavior import ExtraSensoryBehavior"
   ]
  },
  {
   "cell_type": "code",
   "execution_count": 2,
   "metadata": {},
   "outputs": [
    {
     "name": "stdout",
     "output_type": "stream",
     "text": [
      "# of total records: 9227\n",
      "# of `nan` in location: 1064\n",
      "# of `nan` in Activity: 262\n",
      "Location:\n",
      "    home: 6885\n",
      "    work: 1183\n",
      "  others: 1159\n",
      "Activity:\n",
      "  stationary: 8516\n",
      "     walking: 506\n",
      "     running: 50\n",
      "     driving: 0\n",
      "   commuting: 155\n"
     ]
    }
   ],
   "source": [
    "behavior = ExtraSensoryBehavior(\"behavior/data/2.txt\")\n",
    "behavior.printSummary()"
   ]
  },
  {
   "cell_type": "code",
   "execution_count": 3,
   "metadata": {},
   "outputs": [
    {
     "name": "stdout",
     "output_type": "stream",
     "text": [
      "# of total records: 7837\n",
      "# of `nan` in location: 2981\n",
      "# of `nan` in Activity: 1224\n",
      "Location:\n",
      "    home: 3532\n",
      "    work: 1244\n",
      "  others: 3061\n",
      "Activity:\n",
      "  stationary: 7105\n",
      "     walking: 227\n",
      "     running: 0\n",
      "     driving: 446\n",
      "   commuting: 59\n"
     ]
    }
   ],
   "source": [
    "behavior = ExtraSensoryBehavior(\"behavior/data/4.txt\")\n",
    "behavior.printSummary()"
   ]
  },
  {
   "cell_type": "code",
   "execution_count": 4,
   "metadata": {},
   "outputs": [
    {
     "name": "stdout",
     "output_type": "stream",
     "text": [
      "# of total records: 9520\n",
      "# of `nan` in location: 1558\n",
      "# of `nan` in Activity: 8679\n",
      "Location:\n",
      "    home: 3832\n",
      "    work: 4093\n",
      "  others: 1595\n",
      "Activity:\n",
      "  stationary: 8679\n",
      "     walking: 658\n",
      "     running: 0\n",
      "     driving: 0\n",
      "   commuting: 183\n"
     ]
    }
   ],
   "source": [
    "behavior = ExtraSensoryBehavior(\"behavior/data/5.txt\")\n",
    "behavior.printSummary()"
   ]
  },
  {
   "cell_type": "code",
   "execution_count": 5,
   "metadata": {},
   "outputs": [
    {
     "name": "stdout",
     "output_type": "stream",
     "text": [
      "# of total records: 9686\n",
      "# of `nan` in location: 2909\n",
      "# of `nan` in Activity: 8265\n",
      "Location:\n",
      "    home: 5126\n",
      "    work: 1635\n",
      "  others: 2925\n",
      "Activity:\n",
      "  stationary: 8265\n",
      "     walking: 494\n",
      "     running: 68\n",
      "     driving: 758\n",
      "   commuting: 101\n"
     ]
    }
   ],
   "source": [
    "behavior = ExtraSensoryBehavior(\"behavior/data/6.txt\")\n",
    "behavior.printSummary()"
   ]
  },
  {
   "cell_type": "code",
   "execution_count": null,
   "metadata": {},
   "outputs": [],
   "source": []
  }
 ],
 "metadata": {
  "kernelspec": {
   "display_name": "Python 3",
   "language": "python",
   "name": "python3"
  },
  "language_info": {
   "codemirror_mode": {
    "name": "ipython",
    "version": 3
   },
   "file_extension": ".py",
   "mimetype": "text/x-python",
   "name": "python",
   "nbconvert_exporter": "python",
   "pygments_lexer": "ipython3",
   "version": "3.6.4"
  }
 },
 "nbformat": 4,
 "nbformat_minor": 2
}
